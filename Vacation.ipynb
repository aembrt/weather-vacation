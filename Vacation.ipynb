{
 "cells": [
  {
   "cell_type": "markdown",
   "id": "0af7898b",
   "metadata": {},
   "source": [
    "# Heatmaps\n",
    "\n",
    "## Setup"
   ]
  },
  {
   "cell_type": "code",
   "execution_count": 1,
   "id": "de318fd7",
   "metadata": {},
   "outputs": [],
   "source": [
    "# Import the dependencies.\n",
    "import pandas as pd\n",
    "import gmaps\n",
    "import requests\n",
    "\n",
    "# Import the API key.\n",
    "from config import g_key"
   ]
  },
  {
   "cell_type": "code",
   "execution_count": 2,
   "id": "158cf065",
   "metadata": {},
   "outputs": [
    {
     "data": {
      "text/html": [
       "<div>\n",
       "<style scoped>\n",
       "    .dataframe tbody tr th:only-of-type {\n",
       "        vertical-align: middle;\n",
       "    }\n",
       "\n",
       "    .dataframe tbody tr th {\n",
       "        vertical-align: top;\n",
       "    }\n",
       "\n",
       "    .dataframe thead th {\n",
       "        text-align: right;\n",
       "    }\n",
       "</style>\n",
       "<table border=\"1\" class=\"dataframe\">\n",
       "  <thead>\n",
       "    <tr style=\"text-align: right;\">\n",
       "      <th></th>\n",
       "      <th>City_ID</th>\n",
       "      <th>City</th>\n",
       "      <th>Country</th>\n",
       "      <th>Date</th>\n",
       "      <th>Lat</th>\n",
       "      <th>Lng</th>\n",
       "      <th>Max Temp</th>\n",
       "      <th>Humidity</th>\n",
       "      <th>Cloudiness</th>\n",
       "      <th>Wind Speed</th>\n",
       "    </tr>\n",
       "  </thead>\n",
       "  <tbody>\n",
       "    <tr>\n",
       "      <th>0</th>\n",
       "      <td>0</td>\n",
       "      <td>Marawi</td>\n",
       "      <td>PH</td>\n",
       "      <td>2021-07-21 15:15:15</td>\n",
       "      <td>7.9986</td>\n",
       "      <td>124.2928</td>\n",
       "      <td>69.37</td>\n",
       "      <td>88</td>\n",
       "      <td>100</td>\n",
       "      <td>5.91</td>\n",
       "    </tr>\n",
       "    <tr>\n",
       "      <th>1</th>\n",
       "      <td>1</td>\n",
       "      <td>Teguldet</td>\n",
       "      <td>RU</td>\n",
       "      <td>2021-07-21 15:15:16</td>\n",
       "      <td>57.3064</td>\n",
       "      <td>88.1667</td>\n",
       "      <td>62.44</td>\n",
       "      <td>73</td>\n",
       "      <td>56</td>\n",
       "      <td>2.59</td>\n",
       "    </tr>\n",
       "    <tr>\n",
       "      <th>2</th>\n",
       "      <td>2</td>\n",
       "      <td>Klaksvik</td>\n",
       "      <td>FO</td>\n",
       "      <td>2021-07-21 15:15:16</td>\n",
       "      <td>62.2266</td>\n",
       "      <td>-6.5890</td>\n",
       "      <td>54.52</td>\n",
       "      <td>89</td>\n",
       "      <td>7</td>\n",
       "      <td>11.65</td>\n",
       "    </tr>\n",
       "    <tr>\n",
       "      <th>3</th>\n",
       "      <td>3</td>\n",
       "      <td>Reoti</td>\n",
       "      <td>IN</td>\n",
       "      <td>2021-07-21 15:15:17</td>\n",
       "      <td>25.8500</td>\n",
       "      <td>84.3833</td>\n",
       "      <td>88.03</td>\n",
       "      <td>72</td>\n",
       "      <td>99</td>\n",
       "      <td>2.35</td>\n",
       "    </tr>\n",
       "    <tr>\n",
       "      <th>4</th>\n",
       "      <td>4</td>\n",
       "      <td>Davila</td>\n",
       "      <td>PH</td>\n",
       "      <td>2021-07-21 15:15:17</td>\n",
       "      <td>18.4726</td>\n",
       "      <td>120.5763</td>\n",
       "      <td>80.28</td>\n",
       "      <td>86</td>\n",
       "      <td>99</td>\n",
       "      <td>23.76</td>\n",
       "    </tr>\n",
       "  </tbody>\n",
       "</table>\n",
       "</div>"
      ],
      "text/plain": [
       "   City_ID      City Country                 Date      Lat       Lng  \\\n",
       "0        0    Marawi      PH  2021-07-21 15:15:15   7.9986  124.2928   \n",
       "1        1  Teguldet      RU  2021-07-21 15:15:16  57.3064   88.1667   \n",
       "2        2  Klaksvik      FO  2021-07-21 15:15:16  62.2266   -6.5890   \n",
       "3        3     Reoti      IN  2021-07-21 15:15:17  25.8500   84.3833   \n",
       "4        4    Davila      PH  2021-07-21 15:15:17  18.4726  120.5763   \n",
       "\n",
       "   Max Temp  Humidity  Cloudiness  Wind Speed  \n",
       "0     69.37        88         100        5.91  \n",
       "1     62.44        73          56        2.59  \n",
       "2     54.52        89           7       11.65  \n",
       "3     88.03        72          99        2.35  \n",
       "4     80.28        86          99       23.76  "
      ]
     },
     "execution_count": 2,
     "metadata": {},
     "output_type": "execute_result"
    }
   ],
   "source": [
    "# Import weather data as DataFrame\n",
    "city_data_df = pd.read_csv(\"weather_data/cities.csv\")\n",
    "city_data_df.head()"
   ]
  },
  {
   "cell_type": "code",
   "execution_count": 3,
   "id": "21433ab9",
   "metadata": {},
   "outputs": [
    {
     "data": {
      "text/plain": [
       "City_ID         int64\n",
       "City           object\n",
       "Country        object\n",
       "Date           object\n",
       "Lat           float64\n",
       "Lng           float64\n",
       "Max Temp      float64\n",
       "Humidity        int64\n",
       "Cloudiness      int64\n",
       "Wind Speed    float64\n",
       "dtype: object"
      ]
     },
     "execution_count": 3,
     "metadata": {},
     "output_type": "execute_result"
    }
   ],
   "source": [
    "# Confirm data types for quantitative variables\n",
    "city_data_df.dtypes"
   ]
  },
  {
   "cell_type": "code",
   "execution_count": 4,
   "id": "35fa9678",
   "metadata": {},
   "outputs": [],
   "source": [
    "# Configure gmaps to use Google API key.\n",
    "gmaps.configure(api_key=g_key)"
   ]
  },
  {
   "cell_type": "markdown",
   "id": "b6f6261a",
   "metadata": {},
   "source": [
    "## Create Heatmaps\n",
    "\n",
    "### Maximum Temperature Heatmap"
   ]
  },
  {
   "cell_type": "code",
   "execution_count": 5,
   "id": "a40ee2a8",
   "metadata": {},
   "outputs": [
    {
     "data": {
      "application/vnd.jupyter.widget-view+json": {
       "model_id": "c7090941ac0d427baa6a8811777ee355",
       "version_major": 2,
       "version_minor": 0
      },
      "text/plain": [
       "Figure(layout=FigureLayout(height='420px'))"
      ]
     },
     "metadata": {},
     "output_type": "display_data"
    }
   ],
   "source": [
    "# Heatmap of temperature\n",
    "# Get the latitude and longitude.\n",
    "locations = city_data_df[[\"Lat\", \"Lng\"]]\n",
    "# Get the maximum temperature.\n",
    "max_temp = city_data_df[\"Max Temp\"]\n",
    "# Assign the figure variable.\n",
    "fig = gmaps.figure(center=(30.0, 31.0), zoom_level=1.45)\n",
    "# Assign the heatmap variable.\n",
    "heat_layer = gmaps.heatmap_layer(locations, weights=[max(temp, 0) for temp in max_temp],\n",
    "                                dissipating=False, max_intensity=250, point_radius=4.5)\n",
    "# Add the heatmap layer.\n",
    "fig.add_layer(heat_layer)\n",
    "# Call the figure to plot the data.\n",
    "fig"
   ]
  },
  {
   "cell_type": "markdown",
   "id": "839365af",
   "metadata": {},
   "source": [
    "### Humidity Heatmap"
   ]
  },
  {
   "cell_type": "code",
   "execution_count": 6,
   "id": "74d035d0",
   "metadata": {},
   "outputs": [
    {
     "data": {
      "application/vnd.jupyter.widget-view+json": {
       "model_id": "43482754e9b744da89c769c3cecdc5ac",
       "version_major": 2,
       "version_minor": 0
      },
      "text/plain": [
       "Figure(layout=FigureLayout(height='420px'))"
      ]
     },
     "metadata": {},
     "output_type": "display_data"
    }
   ],
   "source": [
    "# Heatmap of percent humidity\n",
    "locations = city_data_df[[\"Lat\", \"Lng\"]]\n",
    "# Get the percent humidity.\n",
    "humidity = city_data_df[\"Humidity\"]\n",
    "# Assign the figure variable.\n",
    "fig = gmaps.figure(center=(30.0, 31.0), zoom_level=1.45)\n",
    "# Assign the heatmap variable.\n",
    "heat_layer = gmaps.heatmap_layer(locations, weights=humidity,\n",
    "                                dissipating=False, max_intensity=250, point_radius=4.5)\n",
    "# Add the heatmap layer.\n",
    "fig.add_layer(heat_layer)\n",
    "# Call the figure to plot the data.\n",
    "fig"
   ]
  },
  {
   "cell_type": "markdown",
   "id": "522d38b0",
   "metadata": {},
   "source": [
    "### Cloudiness Heatmap"
   ]
  },
  {
   "cell_type": "code",
   "execution_count": 7,
   "id": "d6639fc7",
   "metadata": {},
   "outputs": [
    {
     "data": {
      "application/vnd.jupyter.widget-view+json": {
       "model_id": "c423d4ef115c47b89fc89aa4c42c79cc",
       "version_major": 2,
       "version_minor": 0
      },
      "text/plain": [
       "Figure(layout=FigureLayout(height='420px'))"
      ]
     },
     "metadata": {},
     "output_type": "display_data"
    }
   ],
   "source": [
    "# Heatmap of cloudiness\n",
    "locations = city_data_df[[\"Lat\", \"Lng\"]]\n",
    "# Get the percent humidity.\n",
    "cloudiness = city_data_df[\"Cloudiness\"]\n",
    "# Assign the figure variable.\n",
    "fig = gmaps.figure(center=(30.0, 31.0), zoom_level=1.45)\n",
    "# Assign the heatmap variable.\n",
    "heat_layer = gmaps.heatmap_layer(locations, weights=cloudiness,\n",
    "                                dissipating=False, max_intensity=250, point_radius=4.5)\n",
    "# Add the heatmap layer.\n",
    "fig.add_layer(heat_layer)\n",
    "# Call the figure to plot the data.\n",
    "fig"
   ]
  },
  {
   "cell_type": "markdown",
   "id": "f16e6c73",
   "metadata": {},
   "source": [
    "### Wind Speed Heatmap"
   ]
  },
  {
   "cell_type": "code",
   "execution_count": 8,
   "id": "873a46bb",
   "metadata": {},
   "outputs": [
    {
     "data": {
      "application/vnd.jupyter.widget-view+json": {
       "model_id": "c0d8cb323f674481a62efb4f30d02ff1",
       "version_major": 2,
       "version_minor": 0
      },
      "text/plain": [
       "Figure(layout=FigureLayout(height='420px'))"
      ]
     },
     "metadata": {},
     "output_type": "display_data"
    }
   ],
   "source": [
    "# Heatmap of wind speed\n",
    "locations = city_data_df[[\"Lat\", \"Lng\"]]\n",
    "# Get the percent humidity.\n",
    "wind = city_data_df[\"Wind Speed\"]\n",
    "# Assign the figure variable.\n",
    "fig = gmaps.figure(center=(30.0, 31.0), zoom_level=1.45)\n",
    "# Assign the heatmap variable.\n",
    "heat_layer = gmaps.heatmap_layer(locations, weights=wind,\n",
    "                                dissipating=False, max_intensity=250, point_radius=4.5)\n",
    "# Add the heatmap layer.\n",
    "fig.add_layer(heat_layer)\n",
    "# Call the figure to plot the data.\n",
    "fig"
   ]
  },
  {
   "cell_type": "markdown",
   "id": "3e07b1c8",
   "metadata": {},
   "source": [
    "## Get Vacation Criteria"
   ]
  },
  {
   "cell_type": "code",
   "execution_count": 9,
   "id": "8b386401",
   "metadata": {},
   "outputs": [
    {
     "name": "stdout",
     "output_type": "stream",
     "text": [
      "What is the minimum temperature you would like for your trip? 75\n",
      "What is the maximum temperature you would like for your trip? 90\n"
     ]
    }
   ],
   "source": [
    "# Ask the customer to add a minimum and maximum temperature value.\n",
    "min_temp = float(input(\"What is the minimum temperature you would like for your trip? \"))\n",
    "max_temp = float(input(\"What is the maximum temperature you would like for your trip? \"))"
   ]
  },
  {
   "cell_type": "code",
   "execution_count": 10,
   "id": "21b6b901",
   "metadata": {},
   "outputs": [
    {
     "data": {
      "text/html": [
       "<div>\n",
       "<style scoped>\n",
       "    .dataframe tbody tr th:only-of-type {\n",
       "        vertical-align: middle;\n",
       "    }\n",
       "\n",
       "    .dataframe tbody tr th {\n",
       "        vertical-align: top;\n",
       "    }\n",
       "\n",
       "    .dataframe thead th {\n",
       "        text-align: right;\n",
       "    }\n",
       "</style>\n",
       "<table border=\"1\" class=\"dataframe\">\n",
       "  <thead>\n",
       "    <tr style=\"text-align: right;\">\n",
       "      <th></th>\n",
       "      <th>City_ID</th>\n",
       "      <th>City</th>\n",
       "      <th>Country</th>\n",
       "      <th>Date</th>\n",
       "      <th>Lat</th>\n",
       "      <th>Lng</th>\n",
       "      <th>Max Temp</th>\n",
       "      <th>Humidity</th>\n",
       "      <th>Cloudiness</th>\n",
       "      <th>Wind Speed</th>\n",
       "    </tr>\n",
       "  </thead>\n",
       "  <tbody>\n",
       "    <tr>\n",
       "      <th>3</th>\n",
       "      <td>3</td>\n",
       "      <td>Reoti</td>\n",
       "      <td>IN</td>\n",
       "      <td>2021-07-21 15:15:17</td>\n",
       "      <td>25.8500</td>\n",
       "      <td>84.3833</td>\n",
       "      <td>88.03</td>\n",
       "      <td>72</td>\n",
       "      <td>99</td>\n",
       "      <td>2.35</td>\n",
       "    </tr>\n",
       "    <tr>\n",
       "      <th>4</th>\n",
       "      <td>4</td>\n",
       "      <td>Davila</td>\n",
       "      <td>PH</td>\n",
       "      <td>2021-07-21 15:15:17</td>\n",
       "      <td>18.4726</td>\n",
       "      <td>120.5763</td>\n",
       "      <td>80.28</td>\n",
       "      <td>86</td>\n",
       "      <td>99</td>\n",
       "      <td>23.76</td>\n",
       "    </tr>\n",
       "    <tr>\n",
       "      <th>8</th>\n",
       "      <td>8</td>\n",
       "      <td>Kijang</td>\n",
       "      <td>KR</td>\n",
       "      <td>2021-07-21 15:15:19</td>\n",
       "      <td>35.2442</td>\n",
       "      <td>129.2139</td>\n",
       "      <td>76.39</td>\n",
       "      <td>89</td>\n",
       "      <td>100</td>\n",
       "      <td>10.49</td>\n",
       "    </tr>\n",
       "    <tr>\n",
       "      <th>11</th>\n",
       "      <td>11</td>\n",
       "      <td>Kapaa</td>\n",
       "      <td>US</td>\n",
       "      <td>2021-07-21 15:15:20</td>\n",
       "      <td>22.0752</td>\n",
       "      <td>-159.3190</td>\n",
       "      <td>77.32</td>\n",
       "      <td>84</td>\n",
       "      <td>40</td>\n",
       "      <td>3.00</td>\n",
       "    </tr>\n",
       "    <tr>\n",
       "      <th>15</th>\n",
       "      <td>15</td>\n",
       "      <td>Teruel</td>\n",
       "      <td>ES</td>\n",
       "      <td>2021-07-21 15:15:22</td>\n",
       "      <td>40.6667</td>\n",
       "      <td>-0.6667</td>\n",
       "      <td>89.08</td>\n",
       "      <td>24</td>\n",
       "      <td>45</td>\n",
       "      <td>10.85</td>\n",
       "    </tr>\n",
       "    <tr>\n",
       "      <th>20</th>\n",
       "      <td>20</td>\n",
       "      <td>Qui Nhon</td>\n",
       "      <td>VN</td>\n",
       "      <td>2021-07-21 15:15:25</td>\n",
       "      <td>13.7667</td>\n",
       "      <td>109.2333</td>\n",
       "      <td>83.97</td>\n",
       "      <td>69</td>\n",
       "      <td>100</td>\n",
       "      <td>18.30</td>\n",
       "    </tr>\n",
       "    <tr>\n",
       "      <th>24</th>\n",
       "      <td>24</td>\n",
       "      <td>Hamilton</td>\n",
       "      <td>US</td>\n",
       "      <td>2021-07-21 15:15:27</td>\n",
       "      <td>39.1834</td>\n",
       "      <td>-84.5333</td>\n",
       "      <td>76.98</td>\n",
       "      <td>85</td>\n",
       "      <td>90</td>\n",
       "      <td>1.01</td>\n",
       "    </tr>\n",
       "    <tr>\n",
       "      <th>26</th>\n",
       "      <td>26</td>\n",
       "      <td>Hithadhoo</td>\n",
       "      <td>MV</td>\n",
       "      <td>2021-07-21 15:15:28</td>\n",
       "      <td>-0.6000</td>\n",
       "      <td>73.0833</td>\n",
       "      <td>82.71</td>\n",
       "      <td>75</td>\n",
       "      <td>100</td>\n",
       "      <td>15.50</td>\n",
       "    </tr>\n",
       "    <tr>\n",
       "      <th>29</th>\n",
       "      <td>29</td>\n",
       "      <td>Acajutla</td>\n",
       "      <td>SV</td>\n",
       "      <td>2021-07-21 15:15:29</td>\n",
       "      <td>13.5928</td>\n",
       "      <td>-89.8275</td>\n",
       "      <td>88.81</td>\n",
       "      <td>56</td>\n",
       "      <td>3</td>\n",
       "      <td>0.81</td>\n",
       "    </tr>\n",
       "    <tr>\n",
       "      <th>30</th>\n",
       "      <td>30</td>\n",
       "      <td>Albany</td>\n",
       "      <td>US</td>\n",
       "      <td>2021-07-21 15:15:17</td>\n",
       "      <td>42.6001</td>\n",
       "      <td>-73.9662</td>\n",
       "      <td>75.72</td>\n",
       "      <td>75</td>\n",
       "      <td>46</td>\n",
       "      <td>1.01</td>\n",
       "    </tr>\n",
       "  </tbody>\n",
       "</table>\n",
       "</div>"
      ],
      "text/plain": [
       "    City_ID       City Country                 Date      Lat       Lng  \\\n",
       "3         3      Reoti      IN  2021-07-21 15:15:17  25.8500   84.3833   \n",
       "4         4     Davila      PH  2021-07-21 15:15:17  18.4726  120.5763   \n",
       "8         8     Kijang      KR  2021-07-21 15:15:19  35.2442  129.2139   \n",
       "11       11      Kapaa      US  2021-07-21 15:15:20  22.0752 -159.3190   \n",
       "15       15     Teruel      ES  2021-07-21 15:15:22  40.6667   -0.6667   \n",
       "20       20   Qui Nhon      VN  2021-07-21 15:15:25  13.7667  109.2333   \n",
       "24       24   Hamilton      US  2021-07-21 15:15:27  39.1834  -84.5333   \n",
       "26       26  Hithadhoo      MV  2021-07-21 15:15:28  -0.6000   73.0833   \n",
       "29       29   Acajutla      SV  2021-07-21 15:15:29  13.5928  -89.8275   \n",
       "30       30     Albany      US  2021-07-21 15:15:17  42.6001  -73.9662   \n",
       "\n",
       "    Max Temp  Humidity  Cloudiness  Wind Speed  \n",
       "3      88.03        72          99        2.35  \n",
       "4      80.28        86          99       23.76  \n",
       "8      76.39        89         100       10.49  \n",
       "11     77.32        84          40        3.00  \n",
       "15     89.08        24          45       10.85  \n",
       "20     83.97        69         100       18.30  \n",
       "24     76.98        85          90        1.01  \n",
       "26     82.71        75         100       15.50  \n",
       "29     88.81        56           3        0.81  \n",
       "30     75.72        75          46        1.01  "
      ]
     },
     "execution_count": 10,
     "metadata": {},
     "output_type": "execute_result"
    }
   ],
   "source": [
    "# Filter the dataset to find the cities that fit the criteria.\n",
    "preferred_cities_df = city_data_df.loc[(city_data_df[\"Max Temp\"] <= max_temp) & \\\n",
    "                                       (city_data_df[\"Max Temp\"] >= min_temp)].dropna()\n",
    "preferred_cities_df.head(10)"
   ]
  },
  {
   "cell_type": "markdown",
   "id": "3a64f856",
   "metadata": {},
   "source": [
    "## Map Vacation Criteria\n",
    "\n",
    "### Get Travel Destinations"
   ]
  },
  {
   "cell_type": "code",
   "execution_count": 11,
   "id": "d18d8f60",
   "metadata": {},
   "outputs": [
    {
     "data": {
      "text/html": [
       "<div>\n",
       "<style scoped>\n",
       "    .dataframe tbody tr th:only-of-type {\n",
       "        vertical-align: middle;\n",
       "    }\n",
       "\n",
       "    .dataframe tbody tr th {\n",
       "        vertical-align: top;\n",
       "    }\n",
       "\n",
       "    .dataframe thead th {\n",
       "        text-align: right;\n",
       "    }\n",
       "</style>\n",
       "<table border=\"1\" class=\"dataframe\">\n",
       "  <thead>\n",
       "    <tr style=\"text-align: right;\">\n",
       "      <th></th>\n",
       "      <th>City</th>\n",
       "      <th>Country</th>\n",
       "      <th>Max Temp</th>\n",
       "      <th>Lat</th>\n",
       "      <th>Lng</th>\n",
       "      <th>Hotel Name</th>\n",
       "    </tr>\n",
       "  </thead>\n",
       "  <tbody>\n",
       "    <tr>\n",
       "      <th>3</th>\n",
       "      <td>Reoti</td>\n",
       "      <td>IN</td>\n",
       "      <td>88.03</td>\n",
       "      <td>25.8500</td>\n",
       "      <td>84.3833</td>\n",
       "      <td></td>\n",
       "    </tr>\n",
       "    <tr>\n",
       "      <th>4</th>\n",
       "      <td>Davila</td>\n",
       "      <td>PH</td>\n",
       "      <td>80.28</td>\n",
       "      <td>18.4726</td>\n",
       "      <td>120.5763</td>\n",
       "      <td></td>\n",
       "    </tr>\n",
       "    <tr>\n",
       "      <th>8</th>\n",
       "      <td>Kijang</td>\n",
       "      <td>KR</td>\n",
       "      <td>76.39</td>\n",
       "      <td>35.2442</td>\n",
       "      <td>129.2139</td>\n",
       "      <td></td>\n",
       "    </tr>\n",
       "    <tr>\n",
       "      <th>11</th>\n",
       "      <td>Kapaa</td>\n",
       "      <td>US</td>\n",
       "      <td>77.32</td>\n",
       "      <td>22.0752</td>\n",
       "      <td>-159.3190</td>\n",
       "      <td></td>\n",
       "    </tr>\n",
       "    <tr>\n",
       "      <th>15</th>\n",
       "      <td>Teruel</td>\n",
       "      <td>ES</td>\n",
       "      <td>89.08</td>\n",
       "      <td>40.6667</td>\n",
       "      <td>-0.6667</td>\n",
       "      <td></td>\n",
       "    </tr>\n",
       "    <tr>\n",
       "      <th>20</th>\n",
       "      <td>Qui Nhon</td>\n",
       "      <td>VN</td>\n",
       "      <td>83.97</td>\n",
       "      <td>13.7667</td>\n",
       "      <td>109.2333</td>\n",
       "      <td></td>\n",
       "    </tr>\n",
       "    <tr>\n",
       "      <th>24</th>\n",
       "      <td>Hamilton</td>\n",
       "      <td>US</td>\n",
       "      <td>76.98</td>\n",
       "      <td>39.1834</td>\n",
       "      <td>-84.5333</td>\n",
       "      <td></td>\n",
       "    </tr>\n",
       "    <tr>\n",
       "      <th>26</th>\n",
       "      <td>Hithadhoo</td>\n",
       "      <td>MV</td>\n",
       "      <td>82.71</td>\n",
       "      <td>-0.6000</td>\n",
       "      <td>73.0833</td>\n",
       "      <td></td>\n",
       "    </tr>\n",
       "    <tr>\n",
       "      <th>29</th>\n",
       "      <td>Acajutla</td>\n",
       "      <td>SV</td>\n",
       "      <td>88.81</td>\n",
       "      <td>13.5928</td>\n",
       "      <td>-89.8275</td>\n",
       "      <td></td>\n",
       "    </tr>\n",
       "    <tr>\n",
       "      <th>30</th>\n",
       "      <td>Albany</td>\n",
       "      <td>US</td>\n",
       "      <td>75.72</td>\n",
       "      <td>42.6001</td>\n",
       "      <td>-73.9662</td>\n",
       "      <td></td>\n",
       "    </tr>\n",
       "  </tbody>\n",
       "</table>\n",
       "</div>"
      ],
      "text/plain": [
       "         City Country  Max Temp      Lat       Lng Hotel Name\n",
       "3       Reoti      IN     88.03  25.8500   84.3833           \n",
       "4      Davila      PH     80.28  18.4726  120.5763           \n",
       "8      Kijang      KR     76.39  35.2442  129.2139           \n",
       "11      Kapaa      US     77.32  22.0752 -159.3190           \n",
       "15     Teruel      ES     89.08  40.6667   -0.6667           \n",
       "20   Qui Nhon      VN     83.97  13.7667  109.2333           \n",
       "24   Hamilton      US     76.98  39.1834  -84.5333           \n",
       "26  Hithadhoo      MV     82.71  -0.6000   73.0833           \n",
       "29   Acajutla      SV     88.81  13.5928  -89.8275           \n",
       "30     Albany      US     75.72  42.6001  -73.9662           "
      ]
     },
     "execution_count": 11,
     "metadata": {},
     "output_type": "execute_result"
    }
   ],
   "source": [
    "# Create DataFrame to store hotel names along with city, country, max temp, and coordinates.\n",
    "hotel_df = preferred_cities_df[[\"City\", \"Country\", \"Max Temp\", \"Lat\", \"Lng\"]].copy()\n",
    "hotel_df[\"Hotel Name\"] = \"\"\n",
    "hotel_df.head(10)"
   ]
  },
  {
   "cell_type": "code",
   "execution_count": 12,
   "id": "fb730c6f",
   "metadata": {},
   "outputs": [],
   "source": [
    "# Set parameters to search for a hotel.\n",
    "params = {\n",
    "    \"radius\": 5000,\n",
    "    \"type\": \"lodging\",\n",
    "    \"key\": g_key\n",
    "}"
   ]
  },
  {
   "cell_type": "code",
   "execution_count": null,
   "id": "99eba870",
   "metadata": {},
   "outputs": [
    {
     "name": "stdout",
     "output_type": "stream",
     "text": [
      "Hotel not found... skipping.\n"
     ]
    }
   ],
   "source": [
    "# Iterate through the DataFrame.\n",
    "for index, row in hotel_df.iterrows():\n",
    "    # Get the latitude and longitude.\n",
    "    lat = row[\"Lat\"]\n",
    "    lng = row[\"Lng\"]\n",
    "\n",
    "    # Add the latitude and longitude to location key for the params dictionary.\n",
    "    params[\"location\"] = f\"{lat},{lng}\"\n",
    "\n",
    "    # Use the search term: \"lodging\" and our latitude and longitude.\n",
    "    base_url = \"https://maps.googleapis.com/maps/api/place/nearbysearch/json\"\n",
    "    # Make request and get the JSON data from the search.\n",
    "    hotels = requests.get(base_url, params=params).json()\n",
    "    # Grab the first hotel from the results and store the name.\n",
    "    try:\n",
    "        hotel_df.loc[index, \"Hotel Name\"] = hotels[\"results\"][0][\"name\"]\n",
    "    except (IndexError):\n",
    "        print(\"Hotel not found... skipping.\")"
   ]
  },
  {
   "cell_type": "code",
   "execution_count": null,
   "id": "54b34eda",
   "metadata": {},
   "outputs": [],
   "source": []
  }
 ],
 "metadata": {
  "kernelspec": {
   "display_name": "WeatherEnv",
   "language": "python",
   "name": "weatherenv"
  },
  "language_info": {
   "codemirror_mode": {
    "name": "ipython",
    "version": 3
   },
   "file_extension": ".py",
   "mimetype": "text/x-python",
   "name": "python",
   "nbconvert_exporter": "python",
   "pygments_lexer": "ipython3",
   "version": "3.7.10"
  }
 },
 "nbformat": 4,
 "nbformat_minor": 5
}
